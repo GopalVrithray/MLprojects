{
 "cells": [
  {
   "cell_type": "markdown",
   "id": "d7b81458",
   "metadata": {},
   "source": [
    "### Online Fruad Detection Model Training"
   ]
  },
  {
   "cell_type": "markdown",
   "id": "31521148",
   "metadata": {},
   "source": [
    "#### Importing neccessory Libraries required\n"
   ]
  },
  {
   "cell_type": "code",
   "execution_count": 1,
   "id": "ddb96977",
   "metadata": {
    "execution": {
     "iopub.execute_input": "2023-08-08T06:46:56.356726Z",
     "iopub.status.busy": "2023-08-08T06:46:56.356254Z",
     "iopub.status.idle": "2023-08-08T06:46:56.362041Z",
     "shell.execute_reply": "2023-08-08T06:46:56.360818Z"
    },
    "papermill": {
     "duration": 0.021448,
     "end_time": "2023-08-08T06:46:56.364622",
     "exception": false,
     "start_time": "2023-08-08T06:46:56.343174",
     "status": "completed"
    },
    "tags": []
   },
   "outputs": [],
   "source": [
    "import numpy as np\n",
    "import pandas as pd\n",
    "import matplotlib.pyplot as plt\n",
    "%matplotlib inline\n",
    "import seaborn as sns\n",
    "import warnings\n",
    "warnings.filterwarnings('ignore')\n",
    "import os"
   ]
  },
  {
   "cell_type": "markdown",
   "id": "2dbf1583",
   "metadata": {},
   "source": [
    "#### Reading Dataset using Pandas Library"
   ]
  },
  {
   "cell_type": "code",
   "execution_count": 2,
   "id": "b79e40fb",
   "metadata": {
    "execution": {
     "iopub.execute_input": "2023-08-08T06:46:56.386389Z",
     "iopub.status.busy": "2023-08-08T06:46:56.385951Z",
     "iopub.status.idle": "2023-08-08T06:47:21.770930Z",
     "shell.execute_reply": "2023-08-08T06:47:21.769698Z"
    },
    "papermill": {
     "duration": 25.39929,
     "end_time": "2023-08-08T06:47:21.773924",
     "exception": false,
     "start_time": "2023-08-08T06:46:56.374634",
     "status": "completed"
    },
    "tags": []
   },
   "outputs": [
    {
     "data": {
      "text/html": [
       "<div>\n",
       "<style scoped>\n",
       "    .dataframe tbody tr th:only-of-type {\n",
       "        vertical-align: middle;\n",
       "    }\n",
       "\n",
       "    .dataframe tbody tr th {\n",
       "        vertical-align: top;\n",
       "    }\n",
       "\n",
       "    .dataframe thead th {\n",
       "        text-align: right;\n",
       "    }\n",
       "</style>\n",
       "<table border=\"1\" class=\"dataframe\">\n",
       "  <thead>\n",
       "    <tr style=\"text-align: right;\">\n",
       "      <th></th>\n",
       "      <th>step</th>\n",
       "      <th>type</th>\n",
       "      <th>amount</th>\n",
       "      <th>nameOrig</th>\n",
       "      <th>oldbalanceOrg</th>\n",
       "      <th>newbalanceOrig</th>\n",
       "      <th>nameDest</th>\n",
       "      <th>oldbalanceDest</th>\n",
       "      <th>newbalanceDest</th>\n",
       "      <th>isFraud</th>\n",
       "      <th>isFlaggedFraud</th>\n",
       "    </tr>\n",
       "  </thead>\n",
       "  <tbody>\n",
       "    <tr>\n",
       "      <th>0</th>\n",
       "      <td>1</td>\n",
       "      <td>PAYMENT</td>\n",
       "      <td>9839.64</td>\n",
       "      <td>C1231006815</td>\n",
       "      <td>170136.00</td>\n",
       "      <td>160296.36</td>\n",
       "      <td>M1979787155</td>\n",
       "      <td>0.00</td>\n",
       "      <td>0.00</td>\n",
       "      <td>0</td>\n",
       "      <td>0</td>\n",
       "    </tr>\n",
       "    <tr>\n",
       "      <th>1</th>\n",
       "      <td>1</td>\n",
       "      <td>PAYMENT</td>\n",
       "      <td>1864.28</td>\n",
       "      <td>C1666544295</td>\n",
       "      <td>21249.00</td>\n",
       "      <td>19384.72</td>\n",
       "      <td>M2044282225</td>\n",
       "      <td>0.00</td>\n",
       "      <td>0.00</td>\n",
       "      <td>0</td>\n",
       "      <td>0</td>\n",
       "    </tr>\n",
       "    <tr>\n",
       "      <th>2</th>\n",
       "      <td>1</td>\n",
       "      <td>TRANSFER</td>\n",
       "      <td>181.00</td>\n",
       "      <td>C1305486145</td>\n",
       "      <td>181.00</td>\n",
       "      <td>0.00</td>\n",
       "      <td>C553264065</td>\n",
       "      <td>0.00</td>\n",
       "      <td>0.00</td>\n",
       "      <td>1</td>\n",
       "      <td>0</td>\n",
       "    </tr>\n",
       "    <tr>\n",
       "      <th>3</th>\n",
       "      <td>1</td>\n",
       "      <td>CASH_OUT</td>\n",
       "      <td>181.00</td>\n",
       "      <td>C840083671</td>\n",
       "      <td>181.00</td>\n",
       "      <td>0.00</td>\n",
       "      <td>C38997010</td>\n",
       "      <td>21182.00</td>\n",
       "      <td>0.00</td>\n",
       "      <td>1</td>\n",
       "      <td>0</td>\n",
       "    </tr>\n",
       "    <tr>\n",
       "      <th>4</th>\n",
       "      <td>1</td>\n",
       "      <td>PAYMENT</td>\n",
       "      <td>11668.14</td>\n",
       "      <td>C2048537720</td>\n",
       "      <td>41554.00</td>\n",
       "      <td>29885.86</td>\n",
       "      <td>M1230701703</td>\n",
       "      <td>0.00</td>\n",
       "      <td>0.00</td>\n",
       "      <td>0</td>\n",
       "      <td>0</td>\n",
       "    </tr>\n",
       "    <tr>\n",
       "      <th>...</th>\n",
       "      <td>...</td>\n",
       "      <td>...</td>\n",
       "      <td>...</td>\n",
       "      <td>...</td>\n",
       "      <td>...</td>\n",
       "      <td>...</td>\n",
       "      <td>...</td>\n",
       "      <td>...</td>\n",
       "      <td>...</td>\n",
       "      <td>...</td>\n",
       "      <td>...</td>\n",
       "    </tr>\n",
       "    <tr>\n",
       "      <th>6362615</th>\n",
       "      <td>743</td>\n",
       "      <td>CASH_OUT</td>\n",
       "      <td>339682.13</td>\n",
       "      <td>C786484425</td>\n",
       "      <td>339682.13</td>\n",
       "      <td>0.00</td>\n",
       "      <td>C776919290</td>\n",
       "      <td>0.00</td>\n",
       "      <td>339682.13</td>\n",
       "      <td>1</td>\n",
       "      <td>0</td>\n",
       "    </tr>\n",
       "    <tr>\n",
       "      <th>6362616</th>\n",
       "      <td>743</td>\n",
       "      <td>TRANSFER</td>\n",
       "      <td>6311409.28</td>\n",
       "      <td>C1529008245</td>\n",
       "      <td>6311409.28</td>\n",
       "      <td>0.00</td>\n",
       "      <td>C1881841831</td>\n",
       "      <td>0.00</td>\n",
       "      <td>0.00</td>\n",
       "      <td>1</td>\n",
       "      <td>0</td>\n",
       "    </tr>\n",
       "    <tr>\n",
       "      <th>6362617</th>\n",
       "      <td>743</td>\n",
       "      <td>CASH_OUT</td>\n",
       "      <td>6311409.28</td>\n",
       "      <td>C1162922333</td>\n",
       "      <td>6311409.28</td>\n",
       "      <td>0.00</td>\n",
       "      <td>C1365125890</td>\n",
       "      <td>68488.84</td>\n",
       "      <td>6379898.11</td>\n",
       "      <td>1</td>\n",
       "      <td>0</td>\n",
       "    </tr>\n",
       "    <tr>\n",
       "      <th>6362618</th>\n",
       "      <td>743</td>\n",
       "      <td>TRANSFER</td>\n",
       "      <td>850002.52</td>\n",
       "      <td>C1685995037</td>\n",
       "      <td>850002.52</td>\n",
       "      <td>0.00</td>\n",
       "      <td>C2080388513</td>\n",
       "      <td>0.00</td>\n",
       "      <td>0.00</td>\n",
       "      <td>1</td>\n",
       "      <td>0</td>\n",
       "    </tr>\n",
       "    <tr>\n",
       "      <th>6362619</th>\n",
       "      <td>743</td>\n",
       "      <td>CASH_OUT</td>\n",
       "      <td>850002.52</td>\n",
       "      <td>C1280323807</td>\n",
       "      <td>850002.52</td>\n",
       "      <td>0.00</td>\n",
       "      <td>C873221189</td>\n",
       "      <td>6510099.11</td>\n",
       "      <td>7360101.63</td>\n",
       "      <td>1</td>\n",
       "      <td>0</td>\n",
       "    </tr>\n",
       "  </tbody>\n",
       "</table>\n",
       "<p>6362620 rows × 11 columns</p>\n",
       "</div>"
      ],
      "text/plain": [
       "         step      type      amount     nameOrig  oldbalanceOrg  \\\n",
       "0           1   PAYMENT     9839.64  C1231006815      170136.00   \n",
       "1           1   PAYMENT     1864.28  C1666544295       21249.00   \n",
       "2           1  TRANSFER      181.00  C1305486145         181.00   \n",
       "3           1  CASH_OUT      181.00   C840083671         181.00   \n",
       "4           1   PAYMENT    11668.14  C2048537720       41554.00   \n",
       "...       ...       ...         ...          ...            ...   \n",
       "6362615   743  CASH_OUT   339682.13   C786484425      339682.13   \n",
       "6362616   743  TRANSFER  6311409.28  C1529008245     6311409.28   \n",
       "6362617   743  CASH_OUT  6311409.28  C1162922333     6311409.28   \n",
       "6362618   743  TRANSFER   850002.52  C1685995037      850002.52   \n",
       "6362619   743  CASH_OUT   850002.52  C1280323807      850002.52   \n",
       "\n",
       "         newbalanceOrig     nameDest  oldbalanceDest  newbalanceDest  isFraud  \\\n",
       "0             160296.36  M1979787155            0.00            0.00        0   \n",
       "1              19384.72  M2044282225            0.00            0.00        0   \n",
       "2                  0.00   C553264065            0.00            0.00        1   \n",
       "3                  0.00    C38997010        21182.00            0.00        1   \n",
       "4              29885.86  M1230701703            0.00            0.00        0   \n",
       "...                 ...          ...             ...             ...      ...   \n",
       "6362615            0.00   C776919290            0.00       339682.13        1   \n",
       "6362616            0.00  C1881841831            0.00            0.00        1   \n",
       "6362617            0.00  C1365125890        68488.84      6379898.11        1   \n",
       "6362618            0.00  C2080388513            0.00            0.00        1   \n",
       "6362619            0.00   C873221189      6510099.11      7360101.63        1   \n",
       "\n",
       "         isFlaggedFraud  \n",
       "0                     0  \n",
       "1                     0  \n",
       "2                     0  \n",
       "3                     0  \n",
       "4                     0  \n",
       "...                 ...  \n",
       "6362615               0  \n",
       "6362616               0  \n",
       "6362617               0  \n",
       "6362618               0  \n",
       "6362619               0  \n",
       "\n",
       "[6362620 rows x 11 columns]"
      ]
     },
     "execution_count": 2,
     "metadata": {},
     "output_type": "execute_result"
    }
   ],
   "source": [
    "df = pd.read_csv(r'C:\\Users\\gopal\\Downloads\\Data\\PS_20174392719_1491204439457_log.csv')\n",
    "df"
   ]
  },
  {
   "cell_type": "markdown",
   "id": "8d6b736d",
   "metadata": {},
   "source": [
    "#### Retain the 6 features and the target variable"
   ]
  },
  {
   "cell_type": "code",
   "execution_count": 3,
   "id": "90fac8a0",
   "metadata": {
    "execution": {
     "iopub.execute_input": "2023-08-08T06:47:21.800257Z",
     "iopub.status.busy": "2023-08-08T06:47:21.799389Z",
     "iopub.status.idle": "2023-08-08T06:47:21.939544Z",
     "shell.execute_reply": "2023-08-08T06:47:21.938073Z"
    },
    "papermill": {
     "duration": 0.157008,
     "end_time": "2023-08-08T06:47:21.942517",
     "exception": false,
     "start_time": "2023-08-08T06:47:21.785509",
     "status": "completed"
    },
    "tags": []
   },
   "outputs": [],
   "source": [
    "\n",
    "df = df[['amount','oldbalanceOrg','newbalanceOrig','oldbalanceDest','newbalanceDest',\"isFraud\",\"isFlaggedFraud\"]]"
   ]
  },
  {
   "cell_type": "code",
   "execution_count": 4,
   "id": "2608221e",
   "metadata": {
    "execution": {
     "iopub.execute_input": "2023-08-08T06:47:21.965869Z",
     "iopub.status.busy": "2023-08-08T06:47:21.965428Z",
     "iopub.status.idle": "2023-08-08T06:47:21.987547Z",
     "shell.execute_reply": "2023-08-08T06:47:21.985725Z"
    },
    "papermill": {
     "duration": 0.037412,
     "end_time": "2023-08-08T06:47:21.991262",
     "exception": false,
     "start_time": "2023-08-08T06:47:21.953850",
     "status": "completed"
    },
    "tags": []
   },
   "outputs": [
    {
     "name": "stdout",
     "output_type": "stream",
     "text": [
      "<class 'pandas.core.frame.DataFrame'>\n",
      "RangeIndex: 6362620 entries, 0 to 6362619\n",
      "Data columns (total 7 columns):\n",
      " #   Column          Dtype  \n",
      "---  ------          -----  \n",
      " 0   amount          float64\n",
      " 1   oldbalanceOrg   float64\n",
      " 2   newbalanceOrig  float64\n",
      " 3   oldbalanceDest  float64\n",
      " 4   newbalanceDest  float64\n",
      " 5   isFraud         int64  \n",
      " 6   isFlaggedFraud  int64  \n",
      "dtypes: float64(5), int64(2)\n",
      "memory usage: 339.8 MB\n"
     ]
    }
   ],
   "source": [
    "df.info()"
   ]
  },
  {
   "cell_type": "code",
   "execution_count": 5,
   "id": "fe66ddfd",
   "metadata": {
    "execution": {
     "iopub.execute_input": "2023-08-08T06:47:22.123851Z",
     "iopub.status.busy": "2023-08-08T06:47:22.123407Z",
     "iopub.status.idle": "2023-08-08T06:47:22.193343Z",
     "shell.execute_reply": "2023-08-08T06:47:22.191670Z"
    },
    "papermill": {
     "duration": 0.08497,
     "end_time": "2023-08-08T06:47:22.196439",
     "exception": false,
     "start_time": "2023-08-08T06:47:22.111469",
     "status": "completed"
    },
    "tags": []
   },
   "outputs": [
    {
     "data": {
      "text/plain": [
       "isFraud\n",
       "0    6354407\n",
       "1       8213\n",
       "Name: count, dtype: int64"
      ]
     },
     "execution_count": 5,
     "metadata": {},
     "output_type": "execute_result"
    }
   ],
   "source": [
    "df['isFraud'].value_counts()"
   ]
  },
  {
   "cell_type": "markdown",
   "id": "7d44090d",
   "metadata": {},
   "source": [
    "#### Preparing X and Y"
   ]
  },
  {
   "cell_type": "code",
   "execution_count": 6,
   "id": "a03088d9",
   "metadata": {
    "execution": {
     "iopub.execute_input": "2023-08-08T06:47:22.221865Z",
     "iopub.status.busy": "2023-08-08T06:47:22.221461Z",
     "iopub.status.idle": "2023-08-08T06:47:22.336463Z",
     "shell.execute_reply": "2023-08-08T06:47:22.335240Z"
    },
    "papermill": {
     "duration": 0.13054,
     "end_time": "2023-08-08T06:47:22.339229",
     "exception": false,
     "start_time": "2023-08-08T06:47:22.208689",
     "status": "completed"
    },
    "tags": []
   },
   "outputs": [],
   "source": [
    "X = df.drop('isFraud',axis=1)\n",
    "\n",
    "y = df['isFraud']"
   ]
  },
  {
   "cell_type": "markdown",
   "id": "3b318dd8",
   "metadata": {},
   "source": [
    "#### Spiliting data for training and testing"
   ]
  },
  {
   "cell_type": "code",
   "execution_count": 7,
   "id": "027af1b3",
   "metadata": {
    "execution": {
     "iopub.execute_input": "2023-08-08T06:47:22.363450Z",
     "iopub.status.busy": "2023-08-08T06:47:22.363006Z",
     "iopub.status.idle": "2023-08-08T06:47:25.649099Z",
     "shell.execute_reply": "2023-08-08T06:47:25.647451Z"
    },
    "papermill": {
     "duration": 3.302133,
     "end_time": "2023-08-08T06:47:25.652152",
     "exception": false,
     "start_time": "2023-08-08T06:47:22.350019",
     "status": "completed"
    },
    "tags": []
   },
   "outputs": [],
   "source": [
    "\n",
    "from sklearn.model_selection import train_test_split\n",
    "X_train,X_test,y_train,y_test = train_test_split(X,y,test_size=0.30,random_state=1)"
   ]
  },
  {
   "cell_type": "markdown",
   "id": "949285d3",
   "metadata": {},
   "source": [
    "#### Train the Logistic Regression Model"
   ]
  },
  {
   "cell_type": "code",
   "execution_count": 8,
   "id": "01686dc8",
   "metadata": {
    "execution": {
     "iopub.execute_input": "2023-08-08T06:47:25.677920Z",
     "iopub.status.busy": "2023-08-08T06:47:25.676873Z",
     "iopub.status.idle": "2023-08-08T06:48:51.421507Z",
     "shell.execute_reply": "2023-08-08T06:48:51.419608Z"
    },
    "papermill": {
     "duration": 85.771608,
     "end_time": "2023-08-08T06:48:51.434864",
     "exception": false,
     "start_time": "2023-08-08T06:47:25.663256",
     "status": "completed"
    },
    "tags": []
   },
   "outputs": [
    {
     "data": {
      "text/html": [
       "<style>#sk-container-id-1 {\n",
       "  /* Definition of color scheme common for light and dark mode */\n",
       "  --sklearn-color-text: black;\n",
       "  --sklearn-color-line: gray;\n",
       "  /* Definition of color scheme for unfitted estimators */\n",
       "  --sklearn-color-unfitted-level-0: #fff5e6;\n",
       "  --sklearn-color-unfitted-level-1: #f6e4d2;\n",
       "  --sklearn-color-unfitted-level-2: #ffe0b3;\n",
       "  --sklearn-color-unfitted-level-3: chocolate;\n",
       "  /* Definition of color scheme for fitted estimators */\n",
       "  --sklearn-color-fitted-level-0: #f0f8ff;\n",
       "  --sklearn-color-fitted-level-1: #d4ebff;\n",
       "  --sklearn-color-fitted-level-2: #b3dbfd;\n",
       "  --sklearn-color-fitted-level-3: cornflowerblue;\n",
       "\n",
       "  /* Specific color for light theme */\n",
       "  --sklearn-color-text-on-default-background: var(--sg-text-color, var(--theme-code-foreground, var(--jp-content-font-color1, black)));\n",
       "  --sklearn-color-background: var(--sg-background-color, var(--theme-background, var(--jp-layout-color0, white)));\n",
       "  --sklearn-color-border-box: var(--sg-text-color, var(--theme-code-foreground, var(--jp-content-font-color1, black)));\n",
       "  --sklearn-color-icon: #696969;\n",
       "\n",
       "  @media (prefers-color-scheme: dark) {\n",
       "    /* Redefinition of color scheme for dark theme */\n",
       "    --sklearn-color-text-on-default-background: var(--sg-text-color, var(--theme-code-foreground, var(--jp-content-font-color1, white)));\n",
       "    --sklearn-color-background: var(--sg-background-color, var(--theme-background, var(--jp-layout-color0, #111)));\n",
       "    --sklearn-color-border-box: var(--sg-text-color, var(--theme-code-foreground, var(--jp-content-font-color1, white)));\n",
       "    --sklearn-color-icon: #878787;\n",
       "  }\n",
       "}\n",
       "\n",
       "#sk-container-id-1 {\n",
       "  color: var(--sklearn-color-text);\n",
       "}\n",
       "\n",
       "#sk-container-id-1 pre {\n",
       "  padding: 0;\n",
       "}\n",
       "\n",
       "#sk-container-id-1 input.sk-hidden--visually {\n",
       "  border: 0;\n",
       "  clip: rect(1px 1px 1px 1px);\n",
       "  clip: rect(1px, 1px, 1px, 1px);\n",
       "  height: 1px;\n",
       "  margin: -1px;\n",
       "  overflow: hidden;\n",
       "  padding: 0;\n",
       "  position: absolute;\n",
       "  width: 1px;\n",
       "}\n",
       "\n",
       "#sk-container-id-1 div.sk-dashed-wrapped {\n",
       "  border: 1px dashed var(--sklearn-color-line);\n",
       "  margin: 0 0.4em 0.5em 0.4em;\n",
       "  box-sizing: border-box;\n",
       "  padding-bottom: 0.4em;\n",
       "  background-color: var(--sklearn-color-background);\n",
       "}\n",
       "\n",
       "#sk-container-id-1 div.sk-container {\n",
       "  /* jupyter's `normalize.less` sets `[hidden] { display: none; }`\n",
       "     but bootstrap.min.css set `[hidden] { display: none !important; }`\n",
       "     so we also need the `!important` here to be able to override the\n",
       "     default hidden behavior on the sphinx rendered scikit-learn.org.\n",
       "     See: https://github.com/scikit-learn/scikit-learn/issues/21755 */\n",
       "  display: inline-block !important;\n",
       "  position: relative;\n",
       "}\n",
       "\n",
       "#sk-container-id-1 div.sk-text-repr-fallback {\n",
       "  display: none;\n",
       "}\n",
       "\n",
       "div.sk-parallel-item,\n",
       "div.sk-serial,\n",
       "div.sk-item {\n",
       "  /* draw centered vertical line to link estimators */\n",
       "  background-image: linear-gradient(var(--sklearn-color-text-on-default-background), var(--sklearn-color-text-on-default-background));\n",
       "  background-size: 2px 100%;\n",
       "  background-repeat: no-repeat;\n",
       "  background-position: center center;\n",
       "}\n",
       "\n",
       "/* Parallel-specific style estimator block */\n",
       "\n",
       "#sk-container-id-1 div.sk-parallel-item::after {\n",
       "  content: \"\";\n",
       "  width: 100%;\n",
       "  border-bottom: 2px solid var(--sklearn-color-text-on-default-background);\n",
       "  flex-grow: 1;\n",
       "}\n",
       "\n",
       "#sk-container-id-1 div.sk-parallel {\n",
       "  display: flex;\n",
       "  align-items: stretch;\n",
       "  justify-content: center;\n",
       "  background-color: var(--sklearn-color-background);\n",
       "  position: relative;\n",
       "}\n",
       "\n",
       "#sk-container-id-1 div.sk-parallel-item {\n",
       "  display: flex;\n",
       "  flex-direction: column;\n",
       "}\n",
       "\n",
       "#sk-container-id-1 div.sk-parallel-item:first-child::after {\n",
       "  align-self: flex-end;\n",
       "  width: 50%;\n",
       "}\n",
       "\n",
       "#sk-container-id-1 div.sk-parallel-item:last-child::after {\n",
       "  align-self: flex-start;\n",
       "  width: 50%;\n",
       "}\n",
       "\n",
       "#sk-container-id-1 div.sk-parallel-item:only-child::after {\n",
       "  width: 0;\n",
       "}\n",
       "\n",
       "/* Serial-specific style estimator block */\n",
       "\n",
       "#sk-container-id-1 div.sk-serial {\n",
       "  display: flex;\n",
       "  flex-direction: column;\n",
       "  align-items: center;\n",
       "  background-color: var(--sklearn-color-background);\n",
       "  padding-right: 1em;\n",
       "  padding-left: 1em;\n",
       "}\n",
       "\n",
       "\n",
       "/* Toggleable style: style used for estimator/Pipeline/ColumnTransformer box that is\n",
       "clickable and can be expanded/collapsed.\n",
       "- Pipeline and ColumnTransformer use this feature and define the default style\n",
       "- Estimators will overwrite some part of the style using the `sk-estimator` class\n",
       "*/\n",
       "\n",
       "/* Pipeline and ColumnTransformer style (default) */\n",
       "\n",
       "#sk-container-id-1 div.sk-toggleable {\n",
       "  /* Default theme specific background. It is overwritten whether we have a\n",
       "  specific estimator or a Pipeline/ColumnTransformer */\n",
       "  background-color: var(--sklearn-color-background);\n",
       "}\n",
       "\n",
       "/* Toggleable label */\n",
       "#sk-container-id-1 label.sk-toggleable__label {\n",
       "  cursor: pointer;\n",
       "  display: block;\n",
       "  width: 100%;\n",
       "  margin-bottom: 0;\n",
       "  padding: 0.5em;\n",
       "  box-sizing: border-box;\n",
       "  text-align: center;\n",
       "}\n",
       "\n",
       "#sk-container-id-1 label.sk-toggleable__label-arrow:before {\n",
       "  /* Arrow on the left of the label */\n",
       "  content: \"▸\";\n",
       "  float: left;\n",
       "  margin-right: 0.25em;\n",
       "  color: var(--sklearn-color-icon);\n",
       "}\n",
       "\n",
       "#sk-container-id-1 label.sk-toggleable__label-arrow:hover:before {\n",
       "  color: var(--sklearn-color-text);\n",
       "}\n",
       "\n",
       "/* Toggleable content - dropdown */\n",
       "\n",
       "#sk-container-id-1 div.sk-toggleable__content {\n",
       "  max-height: 0;\n",
       "  max-width: 0;\n",
       "  overflow: hidden;\n",
       "  text-align: left;\n",
       "  /* unfitted */\n",
       "  background-color: var(--sklearn-color-unfitted-level-0);\n",
       "}\n",
       "\n",
       "#sk-container-id-1 div.sk-toggleable__content.fitted {\n",
       "  /* fitted */\n",
       "  background-color: var(--sklearn-color-fitted-level-0);\n",
       "}\n",
       "\n",
       "#sk-container-id-1 div.sk-toggleable__content pre {\n",
       "  margin: 0.2em;\n",
       "  border-radius: 0.25em;\n",
       "  color: var(--sklearn-color-text);\n",
       "  /* unfitted */\n",
       "  background-color: var(--sklearn-color-unfitted-level-0);\n",
       "}\n",
       "\n",
       "#sk-container-id-1 div.sk-toggleable__content.fitted pre {\n",
       "  /* unfitted */\n",
       "  background-color: var(--sklearn-color-fitted-level-0);\n",
       "}\n",
       "\n",
       "#sk-container-id-1 input.sk-toggleable__control:checked~div.sk-toggleable__content {\n",
       "  /* Expand drop-down */\n",
       "  max-height: 200px;\n",
       "  max-width: 100%;\n",
       "  overflow: auto;\n",
       "}\n",
       "\n",
       "#sk-container-id-1 input.sk-toggleable__control:checked~label.sk-toggleable__label-arrow:before {\n",
       "  content: \"▾\";\n",
       "}\n",
       "\n",
       "/* Pipeline/ColumnTransformer-specific style */\n",
       "\n",
       "#sk-container-id-1 div.sk-label input.sk-toggleable__control:checked~label.sk-toggleable__label {\n",
       "  color: var(--sklearn-color-text);\n",
       "  background-color: var(--sklearn-color-unfitted-level-2);\n",
       "}\n",
       "\n",
       "#sk-container-id-1 div.sk-label.fitted input.sk-toggleable__control:checked~label.sk-toggleable__label {\n",
       "  background-color: var(--sklearn-color-fitted-level-2);\n",
       "}\n",
       "\n",
       "/* Estimator-specific style */\n",
       "\n",
       "/* Colorize estimator box */\n",
       "#sk-container-id-1 div.sk-estimator input.sk-toggleable__control:checked~label.sk-toggleable__label {\n",
       "  /* unfitted */\n",
       "  background-color: var(--sklearn-color-unfitted-level-2);\n",
       "}\n",
       "\n",
       "#sk-container-id-1 div.sk-estimator.fitted input.sk-toggleable__control:checked~label.sk-toggleable__label {\n",
       "  /* fitted */\n",
       "  background-color: var(--sklearn-color-fitted-level-2);\n",
       "}\n",
       "\n",
       "#sk-container-id-1 div.sk-label label.sk-toggleable__label,\n",
       "#sk-container-id-1 div.sk-label label {\n",
       "  /* The background is the default theme color */\n",
       "  color: var(--sklearn-color-text-on-default-background);\n",
       "}\n",
       "\n",
       "/* On hover, darken the color of the background */\n",
       "#sk-container-id-1 div.sk-label:hover label.sk-toggleable__label {\n",
       "  color: var(--sklearn-color-text);\n",
       "  background-color: var(--sklearn-color-unfitted-level-2);\n",
       "}\n",
       "\n",
       "/* Label box, darken color on hover, fitted */\n",
       "#sk-container-id-1 div.sk-label.fitted:hover label.sk-toggleable__label.fitted {\n",
       "  color: var(--sklearn-color-text);\n",
       "  background-color: var(--sklearn-color-fitted-level-2);\n",
       "}\n",
       "\n",
       "/* Estimator label */\n",
       "\n",
       "#sk-container-id-1 div.sk-label label {\n",
       "  font-family: monospace;\n",
       "  font-weight: bold;\n",
       "  display: inline-block;\n",
       "  line-height: 1.2em;\n",
       "}\n",
       "\n",
       "#sk-container-id-1 div.sk-label-container {\n",
       "  text-align: center;\n",
       "}\n",
       "\n",
       "/* Estimator-specific */\n",
       "#sk-container-id-1 div.sk-estimator {\n",
       "  font-family: monospace;\n",
       "  border: 1px dotted var(--sklearn-color-border-box);\n",
       "  border-radius: 0.25em;\n",
       "  box-sizing: border-box;\n",
       "  margin-bottom: 0.5em;\n",
       "  /* unfitted */\n",
       "  background-color: var(--sklearn-color-unfitted-level-0);\n",
       "}\n",
       "\n",
       "#sk-container-id-1 div.sk-estimator.fitted {\n",
       "  /* fitted */\n",
       "  background-color: var(--sklearn-color-fitted-level-0);\n",
       "}\n",
       "\n",
       "/* on hover */\n",
       "#sk-container-id-1 div.sk-estimator:hover {\n",
       "  /* unfitted */\n",
       "  background-color: var(--sklearn-color-unfitted-level-2);\n",
       "}\n",
       "\n",
       "#sk-container-id-1 div.sk-estimator.fitted:hover {\n",
       "  /* fitted */\n",
       "  background-color: var(--sklearn-color-fitted-level-2);\n",
       "}\n",
       "\n",
       "/* Specification for estimator info (e.g. \"i\" and \"?\") */\n",
       "\n",
       "/* Common style for \"i\" and \"?\" */\n",
       "\n",
       ".sk-estimator-doc-link,\n",
       "a:link.sk-estimator-doc-link,\n",
       "a:visited.sk-estimator-doc-link {\n",
       "  float: right;\n",
       "  font-size: smaller;\n",
       "  line-height: 1em;\n",
       "  font-family: monospace;\n",
       "  background-color: var(--sklearn-color-background);\n",
       "  border-radius: 1em;\n",
       "  height: 1em;\n",
       "  width: 1em;\n",
       "  text-decoration: none !important;\n",
       "  margin-left: 1ex;\n",
       "  /* unfitted */\n",
       "  border: var(--sklearn-color-unfitted-level-1) 1pt solid;\n",
       "  color: var(--sklearn-color-unfitted-level-1);\n",
       "}\n",
       "\n",
       ".sk-estimator-doc-link.fitted,\n",
       "a:link.sk-estimator-doc-link.fitted,\n",
       "a:visited.sk-estimator-doc-link.fitted {\n",
       "  /* fitted */\n",
       "  border: var(--sklearn-color-fitted-level-1) 1pt solid;\n",
       "  color: var(--sklearn-color-fitted-level-1);\n",
       "}\n",
       "\n",
       "/* On hover */\n",
       "div.sk-estimator:hover .sk-estimator-doc-link:hover,\n",
       ".sk-estimator-doc-link:hover,\n",
       "div.sk-label-container:hover .sk-estimator-doc-link:hover,\n",
       ".sk-estimator-doc-link:hover {\n",
       "  /* unfitted */\n",
       "  background-color: var(--sklearn-color-unfitted-level-3);\n",
       "  color: var(--sklearn-color-background);\n",
       "  text-decoration: none;\n",
       "}\n",
       "\n",
       "div.sk-estimator.fitted:hover .sk-estimator-doc-link.fitted:hover,\n",
       ".sk-estimator-doc-link.fitted:hover,\n",
       "div.sk-label-container:hover .sk-estimator-doc-link.fitted:hover,\n",
       ".sk-estimator-doc-link.fitted:hover {\n",
       "  /* fitted */\n",
       "  background-color: var(--sklearn-color-fitted-level-3);\n",
       "  color: var(--sklearn-color-background);\n",
       "  text-decoration: none;\n",
       "}\n",
       "\n",
       "/* Span, style for the box shown on hovering the info icon */\n",
       ".sk-estimator-doc-link span {\n",
       "  display: none;\n",
       "  z-index: 9999;\n",
       "  position: relative;\n",
       "  font-weight: normal;\n",
       "  right: .2ex;\n",
       "  padding: .5ex;\n",
       "  margin: .5ex;\n",
       "  width: min-content;\n",
       "  min-width: 20ex;\n",
       "  max-width: 50ex;\n",
       "  color: var(--sklearn-color-text);\n",
       "  box-shadow: 2pt 2pt 4pt #999;\n",
       "  /* unfitted */\n",
       "  background: var(--sklearn-color-unfitted-level-0);\n",
       "  border: .5pt solid var(--sklearn-color-unfitted-level-3);\n",
       "}\n",
       "\n",
       ".sk-estimator-doc-link.fitted span {\n",
       "  /* fitted */\n",
       "  background: var(--sklearn-color-fitted-level-0);\n",
       "  border: var(--sklearn-color-fitted-level-3);\n",
       "}\n",
       "\n",
       ".sk-estimator-doc-link:hover span {\n",
       "  display: block;\n",
       "}\n",
       "\n",
       "/* \"?\"-specific style due to the `<a>` HTML tag */\n",
       "\n",
       "#sk-container-id-1 a.estimator_doc_link {\n",
       "  float: right;\n",
       "  font-size: 1rem;\n",
       "  line-height: 1em;\n",
       "  font-family: monospace;\n",
       "  background-color: var(--sklearn-color-background);\n",
       "  border-radius: 1rem;\n",
       "  height: 1rem;\n",
       "  width: 1rem;\n",
       "  text-decoration: none;\n",
       "  /* unfitted */\n",
       "  color: var(--sklearn-color-unfitted-level-1);\n",
       "  border: var(--sklearn-color-unfitted-level-1) 1pt solid;\n",
       "}\n",
       "\n",
       "#sk-container-id-1 a.estimator_doc_link.fitted {\n",
       "  /* fitted */\n",
       "  border: var(--sklearn-color-fitted-level-1) 1pt solid;\n",
       "  color: var(--sklearn-color-fitted-level-1);\n",
       "}\n",
       "\n",
       "/* On hover */\n",
       "#sk-container-id-1 a.estimator_doc_link:hover {\n",
       "  /* unfitted */\n",
       "  background-color: var(--sklearn-color-unfitted-level-3);\n",
       "  color: var(--sklearn-color-background);\n",
       "  text-decoration: none;\n",
       "}\n",
       "\n",
       "#sk-container-id-1 a.estimator_doc_link.fitted:hover {\n",
       "  /* fitted */\n",
       "  background-color: var(--sklearn-color-fitted-level-3);\n",
       "}\n",
       "</style><div id=\"sk-container-id-1\" class=\"sk-top-container\"><div class=\"sk-text-repr-fallback\"><pre>LogisticRegression(solver=&#x27;liblinear&#x27;)</pre><b>In a Jupyter environment, please rerun this cell to show the HTML representation or trust the notebook. <br />On GitHub, the HTML representation is unable to render, please try loading this page with nbviewer.org.</b></div><div class=\"sk-container\" hidden><div class=\"sk-item\"><div class=\"sk-estimator fitted sk-toggleable\"><input class=\"sk-toggleable__control sk-hidden--visually\" id=\"sk-estimator-id-1\" type=\"checkbox\" checked><label for=\"sk-estimator-id-1\" class=\"sk-toggleable__label fitted sk-toggleable__label-arrow fitted\">&nbsp;&nbsp;LogisticRegression<a class=\"sk-estimator-doc-link fitted\" rel=\"noreferrer\" target=\"_blank\" href=\"https://scikit-learn.org/1.5/modules/generated/sklearn.linear_model.LogisticRegression.html\">?<span>Documentation for LogisticRegression</span></a><span class=\"sk-estimator-doc-link fitted\">i<span>Fitted</span></span></label><div class=\"sk-toggleable__content fitted\"><pre>LogisticRegression(solver=&#x27;liblinear&#x27;)</pre></div> </div></div></div></div>"
      ],
      "text/plain": [
       "LogisticRegression(solver='liblinear')"
      ]
     },
     "execution_count": 8,
     "metadata": {},
     "output_type": "execute_result"
    }
   ],
   "source": [
    "from sklearn.linear_model import LogisticRegression\n",
    "classifier = LogisticRegression (solver='liblinear')\n",
    "classifier.fit(X_train,y_train)"
   ]
  },
  {
   "cell_type": "markdown",
   "id": "f547b0b5",
   "metadata": {},
   "source": [
    "#### Prediction with the test set"
   ]
  },
  {
   "cell_type": "code",
   "execution_count": 9,
   "id": "a2e0b14b",
   "metadata": {
    "execution": {
     "iopub.execute_input": "2023-08-08T06:48:51.459538Z",
     "iopub.status.busy": "2023-08-08T06:48:51.459069Z",
     "iopub.status.idle": "2023-08-08T06:48:51.561685Z",
     "shell.execute_reply": "2023-08-08T06:48:51.560038Z"
    },
    "papermill": {
     "duration": 0.119895,
     "end_time": "2023-08-08T06:48:51.566249",
     "exception": false,
     "start_time": "2023-08-08T06:48:51.446354",
     "status": "completed"
    },
    "tags": []
   },
   "outputs": [],
   "source": [
    "\n",
    "y_predict = classifier.predict(X_test)"
   ]
  },
  {
   "cell_type": "code",
   "execution_count": 10,
   "id": "ebab9115",
   "metadata": {
    "execution": {
     "iopub.execute_input": "2023-08-08T06:48:51.617582Z",
     "iopub.status.busy": "2023-08-08T06:48:51.616852Z",
     "iopub.status.idle": "2023-08-08T06:48:51.643134Z",
     "shell.execute_reply": "2023-08-08T06:48:51.642163Z"
    },
    "papermill": {
     "duration": 0.055774,
     "end_time": "2023-08-08T06:48:51.645776",
     "exception": false,
     "start_time": "2023-08-08T06:48:51.590002",
     "status": "completed"
    },
    "tags": []
   },
   "outputs": [
    {
     "data": {
      "text/html": [
       "<div>\n",
       "<style scoped>\n",
       "    .dataframe tbody tr th:only-of-type {\n",
       "        vertical-align: middle;\n",
       "    }\n",
       "\n",
       "    .dataframe tbody tr th {\n",
       "        vertical-align: top;\n",
       "    }\n",
       "\n",
       "    .dataframe thead th {\n",
       "        text-align: right;\n",
       "    }\n",
       "</style>\n",
       "<table border=\"1\" class=\"dataframe\">\n",
       "  <thead>\n",
       "    <tr style=\"text-align: right;\">\n",
       "      <th></th>\n",
       "      <th>A</th>\n",
       "      <th>P</th>\n",
       "    </tr>\n",
       "  </thead>\n",
       "  <tbody>\n",
       "    <tr>\n",
       "      <th>6322570</th>\n",
       "      <td>0</td>\n",
       "      <td>0</td>\n",
       "    </tr>\n",
       "    <tr>\n",
       "      <th>3621196</th>\n",
       "      <td>0</td>\n",
       "      <td>0</td>\n",
       "    </tr>\n",
       "    <tr>\n",
       "      <th>1226256</th>\n",
       "      <td>0</td>\n",
       "      <td>0</td>\n",
       "    </tr>\n",
       "    <tr>\n",
       "      <th>2803274</th>\n",
       "      <td>0</td>\n",
       "      <td>0</td>\n",
       "    </tr>\n",
       "    <tr>\n",
       "      <th>3201247</th>\n",
       "      <td>0</td>\n",
       "      <td>0</td>\n",
       "    </tr>\n",
       "    <tr>\n",
       "      <th>3681019</th>\n",
       "      <td>0</td>\n",
       "      <td>0</td>\n",
       "    </tr>\n",
       "    <tr>\n",
       "      <th>1351584</th>\n",
       "      <td>0</td>\n",
       "      <td>0</td>\n",
       "    </tr>\n",
       "    <tr>\n",
       "      <th>5422829</th>\n",
       "      <td>0</td>\n",
       "      <td>0</td>\n",
       "    </tr>\n",
       "    <tr>\n",
       "      <th>5870912</th>\n",
       "      <td>0</td>\n",
       "      <td>0</td>\n",
       "    </tr>\n",
       "    <tr>\n",
       "      <th>2400263</th>\n",
       "      <td>0</td>\n",
       "      <td>0</td>\n",
       "    </tr>\n",
       "  </tbody>\n",
       "</table>\n",
       "</div>"
      ],
      "text/plain": [
       "         A  P\n",
       "6322570  0  0\n",
       "3621196  0  0\n",
       "1226256  0  0\n",
       "2803274  0  0\n",
       "3201247  0  0\n",
       "3681019  0  0\n",
       "1351584  0  0\n",
       "5422829  0  0\n",
       "5870912  0  0\n",
       "2400263  0  0"
      ]
     },
     "execution_count": 10,
     "metadata": {},
     "output_type": "execute_result"
    }
   ],
   "source": [
    "Results = pd.DataFrame({'A':y_test,'P':y_predict})\n",
    "Results.head(10)"
   ]
  },
  {
   "cell_type": "markdown",
   "id": "8a083edc",
   "metadata": {},
   "source": [
    "#### Compute Model Accuracy."
   ]
  },
  {
   "cell_type": "code",
   "execution_count": 11,
   "id": "f9af9951",
   "metadata": {
    "execution": {
     "iopub.execute_input": "2023-08-08T06:48:51.673552Z",
     "iopub.status.busy": "2023-08-08T06:48:51.672492Z",
     "iopub.status.idle": "2023-08-08T06:48:51.862434Z",
     "shell.execute_reply": "2023-08-08T06:48:51.861157Z"
    },
    "papermill": {
     "duration": 0.207402,
     "end_time": "2023-08-08T06:48:51.865435",
     "exception": false,
     "start_time": "2023-08-08T06:48:51.658033",
     "status": "completed"
    },
    "tags": []
   },
   "outputs": [
    {
     "name": "stdout",
     "output_type": "stream",
     "text": [
      "0.9992524044078278\n"
     ]
    }
   ],
   "source": [
    "\n",
    "\n",
    "from sklearn.metrics import accuracy_score\n",
    "print(accuracy_score(y_test,y_predict))"
   ]
  },
  {
   "cell_type": "markdown",
   "id": "7e14c515",
   "metadata": {},
   "source": [
    "#### Model accuracy on training set."
   ]
  },
  {
   "cell_type": "code",
   "execution_count": 12,
   "id": "6afba8d5",
   "metadata": {
    "execution": {
     "iopub.execute_input": "2023-08-08T06:48:51.890581Z",
     "iopub.status.busy": "2023-08-08T06:48:51.890160Z",
     "iopub.status.idle": "2023-08-08T06:48:52.579579Z",
     "shell.execute_reply": "2023-08-08T06:48:52.578069Z"
    },
    "papermill": {
     "duration": 0.705241,
     "end_time": "2023-08-08T06:48:52.582215",
     "exception": false,
     "start_time": "2023-08-08T06:48:51.876974",
     "status": "completed"
    },
    "tags": []
   },
   "outputs": [
    {
     "name": "stdout",
     "output_type": "stream",
     "text": [
      "0.9992803952729267\n"
     ]
    }
   ],
   "source": [
    "y_train_pred = classifier.predict(X_train)\n",
    "\n",
    "print(accuracy_score(y_train,y_train_pred))"
   ]
  },
  {
   "cell_type": "markdown",
   "id": "6566b4ea",
   "metadata": {},
   "source": [
    "#### Getting probability predictions from the model."
   ]
  },
  {
   "cell_type": "code",
   "execution_count": 13,
   "id": "b4ddd30a",
   "metadata": {
    "execution": {
     "iopub.execute_input": "2023-08-08T06:48:52.607380Z",
     "iopub.status.busy": "2023-08-08T06:48:52.606929Z",
     "iopub.status.idle": "2023-08-08T06:48:52.784929Z",
     "shell.execute_reply": "2023-08-08T06:48:52.783571Z"
    },
    "papermill": {
     "duration": 0.193726,
     "end_time": "2023-08-08T06:48:52.787650",
     "exception": false,
     "start_time": "2023-08-08T06:48:52.593924",
     "status": "completed"
    },
    "tags": []
   },
   "outputs": [
    {
     "name": "stdout",
     "output_type": "stream",
     "text": [
      "(1908786, 2)\n"
     ]
    }
   ],
   "source": [
    "y_test_proba = classifier.predict_proba(X_test)\n",
    "\n",
    "print(y_test_proba.shape)"
   ]
  },
  {
   "cell_type": "code",
   "execution_count": 14,
   "id": "8656e845",
   "metadata": {
    "execution": {
     "iopub.execute_input": "2023-08-08T06:48:52.813279Z",
     "iopub.status.busy": "2023-08-08T06:48:52.812586Z",
     "iopub.status.idle": "2023-08-08T06:48:52.819884Z",
     "shell.execute_reply": "2023-08-08T06:48:52.818689Z"
    },
    "papermill": {
     "duration": 0.023079,
     "end_time": "2023-08-08T06:48:52.822572",
     "exception": false,
     "start_time": "2023-08-08T06:48:52.799493",
     "status": "completed"
    },
    "tags": []
   },
   "outputs": [
    {
     "data": {
      "text/plain": [
       "array([[9.90914469e-01, 9.08553137e-03],\n",
       "       [5.78209055e-01, 4.21790945e-01],\n",
       "       [6.83086498e-01, 3.16913502e-01],\n",
       "       [9.99999508e-01, 4.91585074e-07],\n",
       "       [9.99693434e-01, 3.06566183e-04]])"
      ]
     },
     "execution_count": 14,
     "metadata": {},
     "output_type": "execute_result"
    }
   ],
   "source": [
    "y_test_proba[0:5,:]"
   ]
  },
  {
   "cell_type": "code",
   "execution_count": 15,
   "id": "20b60151",
   "metadata": {
    "execution": {
     "iopub.execute_input": "2023-08-08T06:48:52.847943Z",
     "iopub.status.busy": "2023-08-08T06:48:52.847544Z",
     "iopub.status.idle": "2023-08-08T06:48:52.853626Z",
     "shell.execute_reply": "2023-08-08T06:48:52.852834Z"
    },
    "papermill": {
     "duration": 0.021972,
     "end_time": "2023-08-08T06:48:52.856336",
     "exception": false,
     "start_time": "2023-08-08T06:48:52.834364",
     "status": "completed"
    },
    "tags": []
   },
   "outputs": [
    {
     "name": "stdout",
     "output_type": "stream",
     "text": [
      "[['0.9909144686277999' '0.0090855313722002']\n",
      " ['0.5782090546729441' '0.4217909453270559']\n",
      " ['0.6830864978340179' '0.3169135021659821']\n",
      " ['0.9999995084149257' '0.0000004915850743']\n",
      " ['0.9996934338165530' '0.0003065661834470']]\n"
     ]
    }
   ],
   "source": [
    "import numpy as np\n",
    "\n",
    "# Given array in scientific notation\n",
    "array_in_scientific = y_test_proba[0:5,:]\n",
    "\n",
    "# Convert to normal number format\n",
    "array_in_normal = np.vectorize(lambda x: format(x, '.16f'))(array_in_scientific)\n",
    "\n",
    "print(array_in_normal)\n"
   ]
  },
  {
   "cell_type": "code",
   "execution_count": 16,
   "id": "101529de",
   "metadata": {
    "execution": {
     "iopub.execute_input": "2023-08-08T06:48:52.882278Z",
     "iopub.status.busy": "2023-08-08T06:48:52.881278Z",
     "iopub.status.idle": "2023-08-08T06:48:55.368430Z",
     "shell.execute_reply": "2023-08-08T06:48:55.367102Z"
    },
    "papermill": {
     "duration": 2.504129,
     "end_time": "2023-08-08T06:48:55.372348",
     "exception": false,
     "start_time": "2023-08-08T06:48:52.868219",
     "status": "completed"
    },
    "tags": []
   },
   "outputs": [
    {
     "name": "stdout",
     "output_type": "stream",
     "text": [
      "['0.0090855313722002' '0.4217909453270559' '0.3169135021659821' ...\n",
      " '0.0000000000000000' '0.0000000000000000' '0.3897303181781023']\n"
     ]
    }
   ],
   "source": [
    "T = y_test_proba[:,1]\n",
    "array_in_one = T\n",
    "\n",
    "# Convert to normal number format\n",
    "S = np.vectorize(lambda x: format(x, '.16f'))(array_in_one)\n",
    "\n",
    "print(S)\n"
   ]
  },
  {
   "cell_type": "code",
   "execution_count": 17,
   "id": "46e9be1c",
   "metadata": {
    "execution": {
     "iopub.execute_input": "2023-08-08T06:48:55.400545Z",
     "iopub.status.busy": "2023-08-08T06:48:55.399440Z",
     "iopub.status.idle": "2023-08-08T06:48:55.706814Z",
     "shell.execute_reply": "2023-08-08T06:48:55.705455Z"
    },
    "papermill": {
     "duration": 0.325169,
     "end_time": "2023-08-08T06:48:55.710284",
     "exception": false,
     "start_time": "2023-08-08T06:48:55.385115",
     "status": "completed"
    },
    "tags": []
   },
   "outputs": [
    {
     "data": {
      "text/html": [
       "<div>\n",
       "<style scoped>\n",
       "    .dataframe tbody tr th:only-of-type {\n",
       "        vertical-align: middle;\n",
       "    }\n",
       "\n",
       "    .dataframe tbody tr th {\n",
       "        vertical-align: top;\n",
       "    }\n",
       "\n",
       "    .dataframe thead th {\n",
       "        text-align: right;\n",
       "    }\n",
       "</style>\n",
       "<table border=\"1\" class=\"dataframe\">\n",
       "  <thead>\n",
       "    <tr style=\"text-align: right;\">\n",
       "      <th></th>\n",
       "      <th>Actual</th>\n",
       "      <th>Predictions</th>\n",
       "      <th>Prob(Class = 1)</th>\n",
       "    </tr>\n",
       "  </thead>\n",
       "  <tbody>\n",
       "    <tr>\n",
       "      <th>6322570</th>\n",
       "      <td>0</td>\n",
       "      <td>0</td>\n",
       "      <td>0.0090855313722002</td>\n",
       "    </tr>\n",
       "    <tr>\n",
       "      <th>3621196</th>\n",
       "      <td>0</td>\n",
       "      <td>0</td>\n",
       "      <td>0.4217909453270559</td>\n",
       "    </tr>\n",
       "    <tr>\n",
       "      <th>1226256</th>\n",
       "      <td>0</td>\n",
       "      <td>0</td>\n",
       "      <td>0.3169135021659821</td>\n",
       "    </tr>\n",
       "    <tr>\n",
       "      <th>2803274</th>\n",
       "      <td>0</td>\n",
       "      <td>0</td>\n",
       "      <td>0.0000004915850743</td>\n",
       "    </tr>\n",
       "    <tr>\n",
       "      <th>3201247</th>\n",
       "      <td>0</td>\n",
       "      <td>0</td>\n",
       "      <td>0.0003065661834470</td>\n",
       "    </tr>\n",
       "  </tbody>\n",
       "</table>\n",
       "</div>"
      ],
      "text/plain": [
       "         Actual  Predictions     Prob(Class = 1)\n",
       "6322570       0            0  0.0090855313722002\n",
       "3621196       0            0  0.4217909453270559\n",
       "1226256       0            0  0.3169135021659821\n",
       "2803274       0            0  0.0000004915850743\n",
       "3201247       0            0  0.0003065661834470"
      ]
     },
     "execution_count": 17,
     "metadata": {},
     "output_type": "execute_result"
    }
   ],
   "source": [
    "Results = pd.DataFrame({'Actual':y_test,'Predictions':y_predict,'Prob(Class = 1)':S})\n",
    "\n",
    "Results.head(5)"
   ]
  },
  {
   "cell_type": "markdown",
   "id": "5f564fea",
   "metadata": {},
   "source": [
    "#### Generate the Confusion Matrix"
   ]
  },
  {
   "cell_type": "code",
   "execution_count": 18,
   "id": "d18bba48",
   "metadata": {
    "execution": {
     "iopub.execute_input": "2023-08-08T06:48:55.739845Z",
     "iopub.status.busy": "2023-08-08T06:48:55.739448Z",
     "iopub.status.idle": "2023-08-08T06:48:56.093966Z",
     "shell.execute_reply": "2023-08-08T06:48:56.092962Z"
    },
    "papermill": {
     "duration": 0.372665,
     "end_time": "2023-08-08T06:48:56.096577",
     "exception": false,
     "start_time": "2023-08-08T06:48:55.723912",
     "status": "completed"
    },
    "tags": []
   },
   "outputs": [
    {
     "name": "stdout",
     "output_type": "stream",
     "text": [
      "[[1905716     602]\n",
      " [    825    1643]]\n"
     ]
    }
   ],
   "source": [
    "from sklearn.metrics import confusion_matrix\n",
    "\n",
    "cm = confusion_matrix(y_test,y_predict)\n",
    "print(cm)"
   ]
  },
  {
   "cell_type": "code",
   "execution_count": 19,
   "id": "f254998e",
   "metadata": {
    "execution": {
     "iopub.execute_input": "2023-08-08T06:48:56.123339Z",
     "iopub.status.busy": "2023-08-08T06:48:56.122881Z",
     "iopub.status.idle": "2023-08-08T06:48:57.104660Z",
     "shell.execute_reply": "2023-08-08T06:48:57.103183Z"
    },
    "papermill": {
     "duration": 0.998341,
     "end_time": "2023-08-08T06:48:57.107522",
     "exception": false,
     "start_time": "2023-08-08T06:48:56.109181",
     "status": "completed"
    },
    "tags": []
   },
   "outputs": [
    {
     "data": {
      "text/plain": [
       "Text(95.72222222222221, 0.5, 'True Label')"
      ]
     },
     "execution_count": 19,
     "metadata": {},
     "output_type": "execute_result"
    },
    {
     "data": {
      "image/png": "[encoded data removed]",
      "text/plain": [
       "<Figure size 1000x700 with 2 Axes>"
      ]
     },
     "metadata": {},
     "output_type": "display_data"
    }
   ],
   "source": [
    "import seaborn as sn\n",
    "plt.figure(figsize = (10,7))\n",
    "sn.heatmap(cm, annot=True)\n",
    "plt.title('Confusion Matrix - Test Data')\n",
    "plt.xlabel('Predicted Label')\n",
    "plt.ylabel('True Label')"
   ]
  },
  {
   "cell_type": "code",
   "execution_count": 20,
   "id": "3d77d0d5",
   "metadata": {
    "execution": {
     "iopub.execute_input": "2023-08-08T06:48:57.138577Z",
     "iopub.status.busy": "2023-08-08T06:48:57.138035Z",
     "iopub.status.idle": "2023-08-08T06:48:57.350657Z",
     "shell.execute_reply": "2023-08-08T06:48:57.349158Z"
    },
    "papermill": {
     "duration": 0.235368,
     "end_time": "2023-08-08T06:48:57.356189",
     "exception": false,
     "start_time": "2023-08-08T06:48:57.120821",
     "status": "completed"
    },
    "tags": []
   },
   "outputs": [
    {
     "data": {
      "image/png": "[encoded data removed]",
      "text/plain": [
       "<Figure size 640x480 with 1 Axes>"
      ]
     },
     "metadata": {},
     "output_type": "display_data"
    }
   ],
   "source": [
    "plt.clf()\n",
    "plt.imshow(cm,interpolation='nearest',cmap=plt.cm.prism)\n",
    "classNames = ['0','1']\n",
    "plt.title('Confusion Matrix-Test Data')\n",
    "plt.ylabel('True label')\n",
    "plt.xlabel('Predicted label')\n",
    "tick_marks = np.arange(2)\n",
    "plt.xticks(tick_marks,classNames,rotation=45)\n",
    "plt.yticks(tick_marks,classNames)\n",
    "s = [['TN','FP'],['FN','TP']]\n",
    "for i in range(2):\n",
    "    for j in range(2):\n",
    "        plt.text(j,i,str(s[i][j])+\"= \"+str(cm[i][j]))\n",
    "plt.show()"
   ]
  },
  {
   "cell_type": "code",
   "execution_count": 21,
   "id": "74e3a146",
   "metadata": {
    "execution": {
     "iopub.execute_input": "2023-08-08T06:48:57.391900Z",
     "iopub.status.busy": "2023-08-08T06:48:57.389954Z",
     "iopub.status.idle": "2023-08-08T06:49:00.800411Z",
     "shell.execute_reply": "2023-08-08T06:49:00.798410Z"
    },
    "papermill": {
     "duration": 3.429018,
     "end_time": "2023-08-08T06:49:00.803707",
     "exception": false,
     "start_time": "2023-08-08T06:48:57.374689",
     "status": "completed"
    },
    "tags": []
   },
   "outputs": [
    {
     "name": "stdout",
     "output_type": "stream",
     "text": [
      "              precision    recall  f1-score   support\n",
      "\n",
      "           0       1.00      1.00      1.00   1906318\n",
      "           1       0.73      0.67      0.70      2468\n",
      "\n",
      "    accuracy                           1.00   1908786\n",
      "   macro avg       0.87      0.83      0.85   1908786\n",
      "weighted avg       1.00      1.00      1.00   1908786\n",
      "\n"
     ]
    }
   ],
   "source": [
    "#Calculate common error metrics for a 2-class classifier\n",
    "\n",
    "from sklearn.metrics import classification_report\n",
    "print(classification_report(y_test,y_predict))"
   ]
  },
  {
   "cell_type": "code",
   "execution_count": 22,
   "id": "6a583682",
   "metadata": {
    "execution": {
     "iopub.execute_input": "2023-08-08T06:49:00.836431Z",
     "iopub.status.busy": "2023-08-08T06:49:00.835975Z",
     "iopub.status.idle": "2023-08-08T06:49:00.842241Z",
     "shell.execute_reply": "2023-08-08T06:49:00.840959Z"
    },
    "papermill": {
     "duration": 0.02636,
     "end_time": "2023-08-08T06:49:00.844934",
     "exception": false,
     "start_time": "2023-08-08T06:49:00.818574",
     "status": "completed"
    },
    "tags": []
   },
   "outputs": [],
   "source": [
    "# Calculate metrics values individually\n",
    "\n",
    "# Assigning Variables for convinience\n",
    "\n",
    "TN = cm[0][0]\n",
    "FP = cm[0][1]\n",
    "FN = cm[1][0]\n",
    "TP = cm[1][1]"
   ]
  },
  {
   "cell_type": "code",
   "execution_count": 23,
   "id": "4e871d85",
   "metadata": {
    "execution": {
     "iopub.execute_input": "2023-08-08T06:49:00.877228Z",
     "iopub.status.busy": "2023-08-08T06:49:00.876482Z",
     "iopub.status.idle": "2023-08-08T06:49:00.882442Z",
     "shell.execute_reply": "2023-08-08T06:49:00.881395Z"
    },
    "papermill": {
     "duration": 0.025579,
     "end_time": "2023-08-08T06:49:00.885484",
     "exception": false,
     "start_time": "2023-08-08T06:49:00.859905",
     "status": "completed"
    },
    "tags": []
   },
   "outputs": [
    {
     "name": "stdout",
     "output_type": "stream",
     "text": [
      "Recall=  0.6657212317666127\n"
     ]
    }
   ],
   "source": [
    "recall = TP / (TP + FN )\n",
    "print(\"Recall= \",recall)"
   ]
  },
  {
   "cell_type": "code",
   "execution_count": 24,
   "id": "1bf702a4",
   "metadata": {
    "execution": {
     "iopub.execute_input": "2023-08-08T06:49:00.919399Z",
     "iopub.status.busy": "2023-08-08T06:49:00.917935Z",
     "iopub.status.idle": "2023-08-08T06:49:00.926800Z",
     "shell.execute_reply": "2023-08-08T06:49:00.924975Z"
    },
    "papermill": {
     "duration": 0.029713,
     "end_time": "2023-08-08T06:49:00.930606",
     "exception": false,
     "start_time": "2023-08-08T06:49:00.900893",
     "status": "completed"
    },
    "tags": []
   },
   "outputs": [
    {
     "name": "stdout",
     "output_type": "stream",
     "text": [
      "Precision= 0.7318485523385301\n"
     ]
    }
   ],
   "source": [
    "precision = TP / (TP + FP)\n",
    "print(\"Precision=\",precision)"
   ]
  },
  {
   "cell_type": "code",
   "execution_count": 25,
   "id": "1d575cee",
   "metadata": {
    "execution": {
     "iopub.execute_input": "2023-08-08T06:49:00.963238Z",
     "iopub.status.busy": "2023-08-08T06:49:00.962793Z",
     "iopub.status.idle": "2023-08-08T06:49:00.970261Z",
     "shell.execute_reply": "2023-08-08T06:49:00.968281Z"
    },
    "papermill": {
     "duration": 0.026858,
     "end_time": "2023-08-08T06:49:00.972923",
     "exception": false,
     "start_time": "2023-08-08T06:49:00.946065",
     "status": "completed"
    },
    "tags": []
   },
   "outputs": [
    {
     "name": "stdout",
     "output_type": "stream",
     "text": [
      "Specificity =  0.9996842079862857\n"
     ]
    }
   ],
   "source": [
    "specificity = TN /  (TN + FP)\n",
    "print(\"Specificity = \", specificity)"
   ]
  },
  {
   "cell_type": "code",
   "execution_count": 26,
   "id": "4f3b2e76",
   "metadata": {
    "execution": {
     "iopub.execute_input": "2023-08-08T06:49:01.005439Z",
     "iopub.status.busy": "2023-08-08T06:49:01.004627Z",
     "iopub.status.idle": "2023-08-08T06:49:01.012437Z",
     "shell.execute_reply": "2023-08-08T06:49:01.010418Z"
    },
    "papermill": {
     "duration": 0.027958,
     "end_time": "2023-08-08T06:49:01.015701",
     "exception": false,
     "start_time": "2023-08-08T06:49:00.987743",
     "status": "completed"
    },
    "tags": []
   },
   "outputs": [
    {
     "name": "stdout",
     "output_type": "stream",
     "text": [
      "Accuracy = 0.9992524044078278\n"
     ]
    }
   ],
   "source": [
    "accuracy = ( TP + TN ) / ( TP + TN + FP + FN)\n",
    "print(\"Accuracy =\" , accuracy)"
   ]
  }
 ],
 "metadata": {
  "kernelspec": {
   "display_name": "Python 3",
   "language": "python",
   "name": "python3"
  },
  "language_info": {
   "codemirror_mode": {
    "name": "ipython",
    "version": 3
   },
   "file_extension": ".py",
   "mimetype": "text/x-python",
   "name": "python",
   "nbconvert_exporter": "python",
   "pygments_lexer": "ipython3",
   "version": "3.11.1"
  },
  "papermill": {
   "default_parameters": {},
   "duration": 140.19661,
   "end_time": "2023-08-08T06:49:02.792376",
   "environment_variables": {},
   "exception": null,
   "input_path": "__notebook__.ipynb",
   "output_path": "__notebook__.ipynb",
   "parameters": {},
   "start_time": "2023-08-08T06:46:42.595766",
   "version": "2.4.0"
  }
 },
 "nbformat": 4,
 "nbformat_minor": 5
}
